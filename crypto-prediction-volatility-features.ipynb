{
 "cells": [
  {
   "cell_type": "code",
   "execution_count": 1,
   "id": "07833e90",
   "metadata": {
    "_kg_hide-input": true,
    "_kg_hide-output": true,
    "execution": {
     "iopub.execute_input": "2021-12-04T14:59:51.294112Z",
     "iopub.status.busy": "2021-12-04T14:59:51.292836Z",
     "iopub.status.idle": "2021-12-04T14:59:51.328043Z",
     "shell.execute_reply": "2021-12-04T14:59:51.328616Z",
     "shell.execute_reply.started": "2021-11-24T08:50:03.465122Z"
    },
    "papermill": {
     "duration": 0.070062,
     "end_time": "2021-12-04T14:59:51.328923",
     "exception": false,
     "start_time": "2021-12-04T14:59:51.258861",
     "status": "completed"
    },
    "tags": []
   },
   "outputs": [
    {
     "data": {
      "text/html": [
       "\n",
       "<!DOCTYPE html>\n",
       "<html lang=\"en\">\n",
       "    <head>\n",
       "        <link rel=\"stylesheet\" href=\"https://www.w3schools.com/w3css/4/w3.css\">\n",
       "        <link rel=\"stylesheet\" href=\"https://fonts.googleapis.com/css?family=Raleway\">\n",
       "        <link rel=\"stylesheet\" href=\"https://fonts.googleapis.com/css?family=Oswald\">\n",
       "        <link rel=\"stylesheet\" href=\"https://fonts.googleapis.com/css?family=Open Sans\">\n",
       "        <link rel=\"stylesheet\" href=\"https://cdnjs.cloudflare.com/ajax/libs/font-awesome/4.7.0/css/font-awesome.min.css\">\n",
       "        <style>\n",
       "        .title-section{\n",
       "            font-family: \"Oswald\", Arial, sans-serif;\n",
       "            font-weight: bold;\n",
       "            color: \"#6A8CAF\";\n",
       "            letter-spacing: 6px;\n",
       "        }\n",
       "        hr { border: 1px solid #E58F65 !important;\n",
       "             color: #E58F65 !important;\n",
       "             background: #E58F65 !important;\n",
       "           }\n",
       "        body {\n",
       "            font-family: \"Open Sans\", sans-serif;\n",
       "            }        \n",
       "        </style>\n",
       "    </head>    \n",
       "</html>\n"
      ],
      "text/plain": [
       "<IPython.core.display.HTML object>"
      ]
     },
     "execution_count": 1,
     "metadata": {},
     "output_type": "execute_result"
    }
   ],
   "source": [
    "from IPython.core.display import display, HTML, Javascript\n",
    "\n",
    "# ----- Notebook Theme -----\n",
    "\n",
    "notebook_theme = 'carrot'\n",
    "color_maps = {'turquoise': ['#1abc9c', '#e8f8f5', '#d1f2eb', '#a3e4d7', '#76d7c4', '#48c9b0', '#1abc9c', '#17a589', '#148f77', '#117864', '#0e6251'], 'green': ['#16a085', '#e8f6f3', '#d0ece7', '#a2d9ce', '#73c6b6', '#45b39d', '#16a085', '#138d75', '#117a65', '#0e6655', '#0b5345'], 'emerald': ['#2ecc71', '#eafaf1', '#d5f5e3', '#abebc6', '#82e0aa', '#58d68d', '#2ecc71', '#28b463', '#239b56', '#1d8348', '#186a3b'], 'nephritis': ['#27ae60', '#e9f7ef', '#d4efdf', '#a9dfbf', '#7dcea0', '#52be80', '#27ae60', '#229954', '#1e8449', '#196f3d', '#145a32'], 'peter': ['#3498db', '#ebf5fb', '#d6eaf8', '#aed6f1', '#85c1e9', '#5dade2', '#3498db', '#2e86c1', '#2874a6', '#21618c', '#1b4f72'], 'belize': ['#2980b9', '#eaf2f8', '#d4e6f1', '#a9cce3', '#7fb3d5', '#5499c7', '#2980b9', '#2471a3', '#1f618d', '#1a5276', '#154360'], 'amethyst': ['#9b59b6', '#f5eef8', '#ebdef0', '#d7bde2', '#c39bd3', '#af7ac5', '#9b59b6', '#884ea0', '#76448a', '#633974', '#512e5f'], 'wisteria': ['#8e44ad', '#f4ecf7', '#e8daef', '#d2b4de', '#bb8fce', '#a569bd', '#8e44ad', '#7d3c98', '#6c3483', '#5b2c6f', '#4a235a'], 'wet': ['#34495e', '#ebedef', '#d6dbdf', '#aeb6bf', '#85929e', '#5d6d7e', '#34495e', '#2e4053', '#283747', '#212f3c', '#1b2631'], 'midnight': ['#2c3e50', '#eaecee', '#d5d8dc', '#abb2b9', '#808b96', '#566573', '#2c3e50', '#273746', '#212f3d', '#1c2833', '#17202a'], 'sunflower': ['#f1c40f', '#fef9e7', '#fcf3cf', '#f9e79f', '#f7dc6f', '#f4d03f', '#f1c40f', '#d4ac0d', '#b7950b', '#9a7d0a', '#7d6608'], 'orange': ['#f39c12', '#fef5e7', '#fdebd0', '#fad7a0', '#f8c471', '#f5b041', '#f39c12', '#d68910', '#b9770e', '#9c640c', '#7e5109'], 'carrot': ['#e67e22', '#fdf2e9', '#fae5d3', '#f5cba7', '#f0b27a', '#eb984e', '#e67e22', '#ca6f1e', '#af601a', '#935116', '#784212'], 'pumpkin': ['#d35400', '#fbeee6', '#f6ddcc', '#edbb99', '#e59866', '#dc7633', '#d35400', '#ba4a00', '#a04000', '#873600', '#6e2c00'], 'alizarin': ['#e74c3c', '#fdedec', '#fadbd8', '#f5b7b1', '#f1948a', '#ec7063', '#e74c3c', '#cb4335', '#b03a2e', '#943126', '#78281f'], 'pomegranate': ['#c0392b', '#f9ebea', '#f2d7d5', '#e6b0aa', '#d98880', '#cd6155', '#c0392b', '#a93226', '#922b21', '#7b241c', '#641e16'], 'clouds': ['#ecf0f1', '#fdfefe', '#fbfcfc', '#f7f9f9', '#f4f6f7', '#f0f3f4', '#ecf0f1', '#d0d3d4', '#b3b6b7', '#979a9a', '#7b7d7d'], 'silver': ['#bdc3c7', '#f8f9f9', '#f2f3f4', '#e5e7e9', '#d7dbdd', '#cacfd2', '#bdc3c7', '#a6acaf', '#909497', '#797d7f', '#626567'], 'concrete': ['#95a5a6', '#f4f6f6', '#eaeded', '#d5dbdb', '#bfc9ca', '#aab7b8', '#95a5a6', '#839192', '#717d7e', '#5f6a6a', '#4d5656'], 'asbestos': ['#7f8c8d', '#f2f4f4', '#e5e8e8', '#ccd1d1', '#b2babb', '#99a3a4', '#7f8c8d', '#707b7c', '#616a6b', '#515a5a', '#424949']}\n",
    "# color_maps = {'red': ['#f44336', '#ffebee', '#ffcdd2', '#ef9a9a', '#e57373', '#ef5350', '#f44336', '#e53935', '#d32f2f', '#c62828', '#b71c1c', '#ff8a80', '#ff5252', '#ff1744', '#d50000'], 'pink': ['#e91e63', '#fce4ec', '#f8bbd0', '#f48fb1', '#f06292', '#ec407a', '#e91e63', '#d81b60', '#c2185b', '#ad1457', '#880e4f', '#ff80ab', '#ff4081', '#f50057', '#c51162'], 'purple': ['#9c27b0', '#f3e5f5', '#e1bee7', '#ce93d8', '#ba68c8', '#ab47bc', '#9c27b0', '#8e24aa', '#7b1fa2', '#6a1b9a', '#4a148c', '#ea80fc', '#e040fb', '#d500f9', '#aa00ff'], 'deep': ['#673ab7', '#ede7f6', '#d1c4e9', '#b39ddb', '#9575cd', '#7e57c2', '#673ab7', '#5e35b1', '#512da8', '#4527a0', '#311b92', '#b388ff', '#7c4dff', '#651fff', '#6200ea', '#ff5722', '#fbe9e7', '#ffccbc', '#ffab91', '#ff8a65', '#ff7043', '#ff5722', '#f4511e', '#e64a19', '#d84315', '#bf360c', '#ff9e80', '#ff6e40', '#ff3d00', '#dd2c00'], 'indigo': ['#3f51b5', '#e8eaf6', '#c5cae9', '#9fa8da', '#7986cb', '#5c6bc0', '#3f51b5', '#3949ab', '#303f9f', '#283593', '#1a237e', '#8c9eff', '#536dfe', '#3d5afe', '#304ffe'], 'blue': ['#2196f3', '#e3f2fd', '#bbdefb', '#90caf9', '#64b5f6', '#42a5f5', '#2196f3', '#1e88e5', '#1976d2', '#1565c0', '#0d47a1', '#82b1ff', '#448aff', '#2979ff', '#2962ff', '#607d8b', '#eceff1', '#cfd8dc', '#b0bec5', '#90a4ae', '#78909c', '#607d8b', '#546e7a', '#455a64', '#37474f', '#263238'], 'light': ['#03a9f4', '#e1f5fe', '#b3e5fc', '#81d4fa', '#4fc3f7', '#29b6f6', '#03a9f4', '#039be5', '#0288d1', '#0277bd', '#01579b', '#80d8ff', '#40c4ff', '#00b0ff', '#0091ea', '#8bc34a', '#f1f8e9', '#dcedc8', '#c5e1a5', '#aed581', '#9ccc65', '#8bc34a', '#7cb342', '#689f38', '#558b2f', '#33691e', '#ccff90', '#b2ff59', '#76ff03', '#64dd17'], 'cyan': ['#00bcd4', '#e0f7fa', '#b2ebf2', '#80deea', '#4dd0e1', '#26c6da', '#00bcd4', '#00acc1', '#0097a7', '#00838f', '#006064', '#84ffff', '#18ffff', '#00e5ff', '#00b8d4'], 'teal': ['#009688', '#e0f2f1', '#b2dfdb', '#80cbc4', '#4db6ac', '#26a69a', '#009688', '#00897b', '#00796b', '#00695c', '#004d40', '#a7ffeb', '#64ffda', '#1de9b6', '#00bfa5'], 'green': ['#4caf50', '#e8f5e9', '#c8e6c9', '#a5d6a7', '#81c784', '#66bb6a', '#4caf50', '#43a047', '#388e3c', '#2e7d32', '#1b5e20', '#b9f6ca', '#69f0ae', '#00e676', '#00c853'], 'lime': ['#cddc39', '#f9fbe7', '#f0f4c3', '#e6ee9c', '#dce775', '#d4e157', '#cddc39', '#c0ca33', '#afb42b', '#9e9d24', '#827717', '#f4ff81', '#eeff41', '#c6ff00', '#aeea00'], 'yellow': ['#ffeb3b', '#fffde7', '#fff9c4', '#fff59d', '#fff176', '#ffee58', '#ffeb3b', '#fdd835', '#fbc02d', '#f9a825', '#f57f17', '#ffff8d', '#ffff00', '#ffea00', '#ffd600'], 'amber': ['#ffc107', '#fff8e1', '#ffecb3', '#ffe082', '#ffd54f', '#ffca28', '#ffc107', '#ffb300', '#ffa000', '#ff8f00', '#ff6f00', '#ffe57f', '#ffd740', '#ffc400', '#ffab00'], 'orange': ['#ff9800', '#fff3e0', '#ffe0b2', '#ffcc80', '#ffb74d', '#ffa726', '#ff9800', '#fb8c00', '#f57c00', '#ef6c00', '#e65100', '#ffd180', '#ffab40', '#ff9100', '#ff6d00'], 'brown': ['#795548', '#efebe9', '#d7ccc8', '#bcaaa4', '#a1887f', '#8d6e63', '#795548', '#6d4c41', '#5d4037', '#4e342e', '#3e2723'], 'grey': ['#9e9e9e', '#fafafa', '#f5f5f5', '#eeeeee', '#e0e0e0', '#bdbdbd', '#9e9e9e', '#757575', '#616161', '#424242', '#212121'], 'white': ['#ffffff'], 'black': ['#000000']}\n",
    "\n",
    "color_maps = {i: color_maps[i] for i in color_maps if i not in ['clouds', 'silver', 'concrete', 'asbestos', 'wet asphalt', 'midnight blue', 'wet']}\n",
    "\n",
    "CMAP = 'Oranges'\n",
    "prompt = '#1DBCCD'\n",
    "main_color = '#E58F65' # color_maps[notebook_theme]\n",
    "strong_main_color = '#EB9514' # = color_maps[notebook_theme] \n",
    "custom_colors = [strong_main_color, main_color]\n",
    "\n",
    "# ----- Notebook Theme -----\n",
    "\n",
    "html_contents =\"\"\"\n",
    "<!DOCTYPE html>\n",
    "<html lang=\"en\">\n",
    "    <head>\n",
    "        <link rel=\"stylesheet\" href=\"https://www.w3schools.com/w3css/4/w3.css\">\n",
    "        <link rel=\"stylesheet\" href=\"https://fonts.googleapis.com/css?family=Raleway\">\n",
    "        <link rel=\"stylesheet\" href=\"https://fonts.googleapis.com/css?family=Oswald\">\n",
    "        <link rel=\"stylesheet\" href=\"https://fonts.googleapis.com/css?family=Open Sans\">\n",
    "        <link rel=\"stylesheet\" href=\"https://cdnjs.cloudflare.com/ajax/libs/font-awesome/4.7.0/css/font-awesome.min.css\">\n",
    "        <style>\n",
    "        .title-section{\n",
    "            font-family: \"Oswald\", Arial, sans-serif;\n",
    "            font-weight: bold;\n",
    "            color: \"#6A8CAF\";\n",
    "            letter-spacing: 6px;\n",
    "        }\n",
    "        hr { border: 1px solid #E58F65 !important;\n",
    "             color: #E58F65 !important;\n",
    "             background: #E58F65 !important;\n",
    "           }\n",
    "        body {\n",
    "            font-family: \"Open Sans\", sans-serif;\n",
    "            }        \n",
    "        </style>\n",
    "    </head>    \n",
    "</html>\n",
    "\"\"\"\n",
    "\n",
    "import os\n",
    "if not os.path.exists(\"../input/g-research-crypto-forecasting/\"): os.chdir('/t/Datasets/kaggle_crypto/internal')\n",
    "HTML(html_contents)"
   ]
  },
  {
   "cell_type": "markdown",
   "id": "54104600",
   "metadata": {
    "_cell_guid": "42a2c92b-00e6-4c13-b99e-408266d1b964",
    "_uuid": "9b3904ae-5fd7-432b-a10a-1a2446fbcc4b",
    "papermill": {
     "duration": 0.02538,
     "end_time": "2021-12-04T14:59:51.380649",
     "exception": false,
     "start_time": "2021-12-04T14:59:51.355269",
     "status": "completed"
    },
    "tags": []
   },
   "source": [
    "<br><br>\n",
    "<div>    \n",
    "<!--     <div style = \"float:left; width:55%; overflow:hidden;\">         -->\n",
    "        <center><img src=\"https://i.ibb.co/hHpTy3c/g-research-logo6.png\" style = \"max-height:300px;\"></center> \n",
    "<!--     </div> -->\n",
    "<!--     <div style = \"float:right; width:35%; overflow:hidden;\"> -->\n",
    "<!--         <img src=\"img/meditation/Meditation3.gif\">  -->\n",
    "<!--     </div> -->\n",
    "</div>"
   ]
  },
  {
   "cell_type": "markdown",
   "id": "ece363be",
   "metadata": {
    "_cell_guid": "3208562a-4f7a-45d5-b8e2-67da427cd906",
    "_uuid": "d7276e81-829f-4be5-967d-0a641fb1adbf",
    "papermill": {
     "duration": 0.025578,
     "end_time": "2021-12-04T14:59:51.432503",
     "exception": false,
     "start_time": "2021-12-04T14:59:51.406925",
     "status": "completed"
    },
    "tags": []
   },
   "source": [
    "<hr>"
   ]
  },
  {
   "cell_type": "markdown",
   "id": "db735f7b",
   "metadata": {
    "_cell_guid": "241ce292-edca-4688-a665-c6321e80b438",
    "_uuid": "79576405-5d2f-465f-bb01-10eee623172c",
    "papermill": {
     "duration": 0.025623,
     "end_time": "2021-12-04T14:59:51.483814",
     "exception": false,
     "start_time": "2021-12-04T14:59:51.458191",
     "status": "completed"
    },
    "tags": []
   },
   "source": [
    "<div>    \n",
    "    <div style = \"float:left; width:55%; overflow:hidden;\">        \n",
    "        <br><br><br><br>        \n",
    "        <span style = \"float:right;\">\n",
    "        <h2>Volatility Estimation Features</h2>\n",
    "        <p>G-Research Crypto Forecasting Competition</p>\n",
    "        <br>\n",
    "        <b></b>\n",
    "        <b>\n",
    "        - 🌎 <a href=\"https://www.kaggle.com/c/g-research-crypto-forecasting/discussion/284903\">Discussion Thread</a>\n",
    "        <br>\n",
    "        - 🇰 <a href=\"https://www.kaggle.com/c/g-research-crypto-forecasting/discussion/285726\">The dataset</a>\n",
    "        </b>            \n",
    "        </span>\n",
    "    </div>\n",
    "    <div style=\"float:right; width:35%; max-height:300px; overflow: hidden;\">        \n",
    "        <img src=\"https://i.ibb.co/9YFyhT8/Bitcoin2.gif\" style = \"max-height: 300px;\">         \n",
    "    </div>\n",
    "</div>"
   ]
  },
  {
   "cell_type": "markdown",
   "id": "e6509754",
   "metadata": {
    "_cell_guid": "ca79faf7-ca73-4e9b-8552-be96bdc881f9",
    "_uuid": "4e428101-c977-488b-aa10-fe96d228224f",
    "papermill": {
     "duration": 0.025256,
     "end_time": "2021-12-04T14:59:51.534727",
     "exception": false,
     "start_time": "2021-12-04T14:59:51.509471",
     "status": "completed"
    },
    "tags": []
   },
   "source": [
    "<span id=\"introduction\"></span>\n",
    "<hr>"
   ]
  },
  {
   "cell_type": "markdown",
   "id": "dca95f6b",
   "metadata": {
    "_cell_guid": "8af163ff-915a-4fae-aefe-6447e64952e5",
    "_uuid": "b328cc9e-a536-4347-beed-d033e9f5ac6a",
    "papermill": {
     "duration": 0.025387,
     "end_time": "2021-12-04T14:59:51.586008",
     "exception": false,
     "start_time": "2021-12-04T14:59:51.560621",
     "status": "completed"
    },
    "tags": []
   },
   "source": [
    ">### Volatility Estimation Features\n",
    ">- In this notebook there are serveral functions to estimate the volatility of an asset. some can be used as features to a model.\n",
    ">- Enjoy the short scripts to obtain them! \n",
    ">\n",
    ">This notebook follows the ideas presented in my \"Initial Thoughts\" [here][1].\n",
    "\n",
    "[1]: https://www.kaggle.com/c/g-research-crypto-forecasting/discussion/284903\n",
    "[2]: https://www.kaggle.com/yamqwe/let-s-talk-validation-grouptimeseriessplit\n",
    "[3]: https://www.kaggle.com/cdeotte/triple-stratified-kfold-with-tfrecords\n",
    "\n",
    "<div class=\"alert alert-block alert-warning\">\n",
    "<b>References:</b>\n",
    "<ul>\n",
    "    <li><a href = \"https://www.kaggle.com/c/g-research-crypto-forecasting/discussion/285726\">Dataset Thread</a></li>\n",
    "    <li><a href = \"https://www.kaggle.com/c/g-research-crypto-forecasting/discussion/284903\">Initial Thoughts Thread\n",
    "</a></li>\n",
    "    <li><a href = \"https://www.kaggle.com/yamqwe/let-s-talk-validation-grouptimeseriessplit\">Validation Thread\n",
    "</a></li>\n",
    "</ul>\n",
    "</div>"
   ]
  },
  {
   "cell_type": "markdown",
   "id": "c7a69c63",
   "metadata": {
    "_cell_guid": "0d6da3cc-34e7-416a-b6cb-4ae896ec5838",
    "_uuid": "1fd23ff9-d737-4954-a657-149fa8764d15",
    "papermill": {
     "duration": 0.025094,
     "end_time": "2021-12-04T14:59:51.636582",
     "exception": false,
     "start_time": "2021-12-04T14:59:51.611488",
     "status": "completed"
    },
    "tags": []
   },
   "source": [
    "____\n",
    "\n",
    "#### <center>All notebooks in the series 👇</center>\n",
    "\n",
    "| CV + Model | Hyperparam Optimization  | Time Series Models | Feature Engineering |\n",
    "| --- | --- | --- | --- |\n",
    "| [Neural Network Starter](https://www.kaggle.com/yamqwe/purgedgrouptimeseries-cv-with-extra-data-nn) | [MLP + AE](https://www.kaggle.com/yamqwe/bottleneck-encoder-mlp-keras-tuner)        | [LSTM](https://www.kaggle.com/yamqwe/time-series-modeling-lstm) | [Technical Analysis #1](https://www.kaggle.com/yamqwe/crypto-prediction-technical-analysis-features) |\n",
    "| [LightGBM Starter](https://www.kaggle.com/yamqwe/purgedgrouptimeseries-cv-with-extra-data-lgbm)     | [LightGBM](https://www.kaggle.com/yamqwe/purged-time-series-cv-lightgbm-optuna)     | [Wavenet](https://www.kaggle.com/yamqwe/time-series-modeling-wavenet)  | [Technical Analysis #2](https://www.kaggle.com/yamqwe/crypto-prediction-technical-analysis-feats-2) |\n",
    "| [Catboost Starter](https://www.kaggle.com/yamqwe/purgedgrouptimeseries-cv-extra-data-catboost)      | [Catboost](https://www.kaggle.com/yamqwe/purged-time-series-cv-catboost-gpu-optuna) | [Multivariate-Transformer [written from scratch]](https://www.kaggle.com/yamqwe/time-series-modeling-multivariate-transformer) | [Time Series Agg](https://www.kaggle.com/yamqwe/features-all-time-series-aggregations-ever) | \n",
    "| [XGBoost Starter](https://www.kaggle.com/yamqwe/xgb-extra-data)                                            | [XGboost](https://www.kaggle.com/yamqwe/purged-time-series-cv-xgboost-gpu-optuna) | [N-BEATS](https://www.kaggle.com/yamqwe/crypto-forecasting-n-beats) |  [Neutralization](https://www.kaggle.com/yamqwe/g-research-avoid-overfit-feature-neutralization/) |\n",
    "| [Supervised AE [Janestreet 1st]](https://www.kaggle.com/yamqwe/1st-place-of-jane-street-adapted-to-crypto) | [Supervised AE [Janestreet 1st]](https://www.kaggle.com/yamqwe/1st-place-of-jane-street-keras-tuner) | [DeepAR](https://www.kaggle.com/yamqwe/probabilistic-forecasting-deepar/) | [Quant's Volatility Features](https://www.kaggle.com/yamqwe/crypto-prediction-volatility-features) |\n",
    "| [Transformer)](https://www.kaggle.com/yamqwe/let-s-test-a-transformer)                                     | [Transformer](https://www.kaggle.com/yamqwe/sh-tcoins-transformer-baseline)  |  | ⏳Target Engineering |\n",
    "| [TabNet Starter](https://www.kaggle.com/yamqwe/tabnet-cv-extra-data)                                       |  |  |⏳Fourier Analysis | \n",
    "| [Reinforcement Learning (PPO) Starter](https://www.kaggle.com/yamqwe/g-research-reinforcement-learning-starter) | | | ⏳Wavelets | \n",
    "\n",
    "____"
   ]
  },
  {
   "cell_type": "markdown",
   "id": "07edb3f3",
   "metadata": {
    "_cell_guid": "3208562a-4f7a-45d5-b8e2-67da427cd906",
    "_uuid": "d7276e81-829f-4be5-967d-0a641fb1adbf",
    "papermill": {
     "duration": 0.025506,
     "end_time": "2021-12-04T14:59:51.689107",
     "exception": false,
     "start_time": "2021-12-04T14:59:51.663601",
     "status": "completed"
    },
    "tags": []
   },
   "source": [
    "# <span class=\"title-section w3-xxlarge\" id=\"outline\">Table Of Content 📑</span>\n",
    "<hr >"
   ]
  },
  {
   "cell_type": "markdown",
   "id": "2ee5d131",
   "metadata": {
    "_cell_guid": "d70815a1-3398-43b2-be85-2230fffd89a9",
    "_uuid": "e9b980c5-036c-4e25-992b-115169a95ba4",
    "papermill": {
     "duration": 0.025287,
     "end_time": "2021-12-04T14:59:51.739861",
     "exception": false,
     "start_time": "2021-12-04T14:59:51.714574",
     "status": "completed"
    },
    "tags": []
   },
   "source": [
    "#### Table Of Content\n",
    "\n",
    "1. [📝 Introduction](#introduction)\n",
    "\n",
    "2. [📑 Table Of Content](#outline) \n",
    "\n",
    "3. [🤿 Diving into the Data](#diving) \n",
    "\n",
    "4. [📚 Imports](#imports) \n",
    "\n",
    "5. [🗃️ Data Loading](#loading)  \n",
    "\n",
    "6. [🔬 Feature Engineering](#features)  \n"
   ]
  },
  {
   "cell_type": "markdown",
   "id": "503b0e62",
   "metadata": {
    "_cell_guid": "310c5bce-3fab-4a82-b70e-d5e8a0e5e594",
    "_uuid": "ce509f90-2ae9-4ea3-94ad-39479b72ca12",
    "papermill": {
     "duration": 0.026311,
     "end_time": "2021-12-04T14:59:51.791824",
     "exception": false,
     "start_time": "2021-12-04T14:59:51.765513",
     "status": "completed"
    },
    "tags": []
   },
   "source": [
    "# <span class=\"title-section w3-xxlarge\" id=\"outline\">Diving into the Data 🤿</span>\n",
    "<hr >"
   ]
  },
  {
   "cell_type": "markdown",
   "id": "d42e2498",
   "metadata": {
    "_cell_guid": "ca6da936-954f-427b-af0c-f04517c4d4ed",
    "_uuid": "a91494a0-a071-49e5-bcc0-9c7b7566ad75",
    "papermill": {
     "duration": 0.025127,
     "end_time": "2021-12-04T14:59:51.843051",
     "exception": false,
     "start_time": "2021-12-04T14:59:51.817924",
     "status": "completed"
    },
    "tags": []
   },
   "source": [
    "\n",
    "#### **<span>Dataset Structure</span>**\n",
    "\n",
    "> **train.csv** - The training set\n",
    "> \n",
    "> 1.  timestamp - A timestamp for the minute covered by the row.\n",
    "> 2.  Asset_ID - An ID code for the cryptoasset.\n",
    "> 3.  Count - The number of trades that took place this minute.\n",
    "> 4.  Open - The USD price at the beginning of the minute.\n",
    "> 5.  High - The highest USD price during the minute.\n",
    "> 6.  Low - The lowest USD price during the minute.\n",
    "> 7.  Close - The USD price at the end of the minute.\n",
    "> 8.  Volume - The number of cryptoasset u units traded during the minute.\n",
    "> 9.  VWAP - The volume-weighted average price for the minute.\n",
    "> 10. Target - 15 minute residualized returns. See the 'Prediction and Evaluation section of this notebook for details of how the target is calculated.\n",
    "> 11. Weight - Weight, defined by the competition hosts [here](https://www.kaggle.com/cstein06/tutorial-to-the-g-research-crypto-competition)\n",
    "> 12. Asset_Name - Human readable Asset name.\n",
    "> \n",
    ">\n",
    "> **example_test.csv** - An example of the data that will be delivered by the time series API.\n",
    "> \n",
    "> **example_sample_submission.csv** - An example of the data that will be delivered by the time series API. The data is just copied from train.csv.\n",
    "> \n",
    "> **asset_details.csv** - Provides the real name and of the cryptoasset for each Asset_ID and the weight each cryptoasset receives in the metric.\n",
    "> \n",
    "> **supplemental_train.csv** - After the submission period is over this file's data will be replaced with cryptoasset prices from the submission period. In the Evaluation phase, the train, train supplement, and test set will be contiguous in time, apart from any missing data. The current copy, which is just filled approximately the right amount of data from train.csv is provided as a placeholder.\n",
    ">\n",
    "> - 📌 There are 14 coins in the dataset\n",
    ">\n",
    "> - 📌 There are 4 years  in the [full] dataset"
   ]
  },
  {
   "cell_type": "code",
   "execution_count": 2,
   "id": "ff24667d",
   "metadata": {
    "_cell_guid": "75405d52-594f-4791-a45a-16354bc24cfa",
    "_kg_hide-input": true,
    "_kg_hide-output": true,
    "_uuid": "775496bb-f633-46f4-a642-10e6cd29c1bb",
    "execution": {
     "iopub.execute_input": "2021-12-04T14:59:51.897351Z",
     "iopub.status.busy": "2021-12-04T14:59:51.896659Z",
     "iopub.status.idle": "2021-12-04T14:59:51.908713Z",
     "shell.execute_reply": "2021-12-04T14:59:51.909349Z",
     "shell.execute_reply.started": "2021-11-24T08:50:03.556116Z"
    },
    "jupyter": {
     "outputs_hidden": false
    },
    "papermill": {
     "duration": 0.040661,
     "end_time": "2021-12-04T14:59:51.909543",
     "exception": false,
     "start_time": "2021-12-04T14:59:51.868882",
     "status": "completed"
    },
    "tags": []
   },
   "outputs": [
    {
     "data": {
      "text/html": [
       "<style>\n",
       "div #notebook {\n",
       "background-color: white;\n",
       "font-family: 'Open Sans', Helvetica, sans-serif;\n",
       "line-height: 20px;\n",
       "}\n",
       "\n",
       "#notebook-container {\n",
       "margin-top: 2em;\n",
       "padding-top: 2em;\n",
       "border-top: 4px solid #E58F65; /* light orange */\n",
       "-webkit-box-shadow: 0px 0px 8px 2px rgba(224, 212, 226, 0.5); /* pink */\n",
       "    box-shadow: 0px 0px 8px 2px rgba(224, 212, 226, 0.5); /* pink */\n",
       "}\n",
       "\n",
       "div .input {\n",
       "margin-bottom: 1em;\n",
       "}\n",
       "\n",
       ".rendered_html h1, .rendered_html h2, .rendered_html h3, .rendered_html h4, .rendered_html h5, .rendered_html h6 {\n",
       "color: #E58F65; /* light orange */\n",
       "font-weight: 600;\n",
       "}\n",
       "\n",
       ".rendered_html code {\n",
       "    background-color: #efefef; /* light gray */\n",
       "}\n",
       "\n",
       ".CodeMirror {\n",
       "color: #8c8c8c; /* dark gray */\n",
       "padding: 0.7em;\n",
       "}\n",
       "\n",
       "div.input_area {\n",
       "border: none;\n",
       "    background-color: rgba(229, 143, 101, 0.1); /* rgba(229, 143, 101, 0.1); light orange [exactly #E58F65] */\n",
       "    border-top: 2px solid #E58F65; /* light orange */\n",
       "}\n",
       "\n",
       "div.input_prompt {\n",
       "color: #1DBCCD; /* light blue */\n",
       "}\n",
       "\n",
       "div.output_prompt {\n",
       "color: #EB9514; /* strong orange */\n",
       "}\n",
       "\n",
       "div.cell.selected:before, div.cell.selected.jupyter-soft-selected:before {\n",
       "background: #E58F65; /* light orange */\n",
       "}\n",
       "\n",
       "div.cell.selected, div.cell.selected.jupyter-soft-selected {\n",
       "    border-color: #E58F65; /* light orange */\n",
       "}\n",
       "\n",
       ".edit_mode div.cell.selected:before {\n",
       "background: #E58F65; /* light orange */\n",
       "}\n",
       "\n",
       ".edit_mode div.cell.selected {\n",
       "border-color: #E58F65; /* light orange */\n",
       "\n",
       "}\n",
       "</style>"
      ],
      "text/plain": [
       "<IPython.core.display.HTML object>"
      ]
     },
     "execution_count": 2,
     "metadata": {},
     "output_type": "execute_result"
    }
   ],
   "source": [
    "css_file = '''\n",
    "div #notebook {\n",
    "background-color: white;\n",
    "font-family: 'Open Sans', Helvetica, sans-serif;\n",
    "line-height: 20px;\n",
    "}\n",
    "\n",
    "#notebook-container {\n",
    "margin-top: 2em;\n",
    "padding-top: 2em;\n",
    "border-top: 4px solid %s; /* light orange */\n",
    "-webkit-box-shadow: 0px 0px 8px 2px rgba(224, 212, 226, 0.5); /* pink */\n",
    "    box-shadow: 0px 0px 8px 2px rgba(224, 212, 226, 0.5); /* pink */\n",
    "}\n",
    "\n",
    "div .input {\n",
    "margin-bottom: 1em;\n",
    "}\n",
    "\n",
    ".rendered_html h1, .rendered_html h2, .rendered_html h3, .rendered_html h4, .rendered_html h5, .rendered_html h6 {\n",
    "color: %s; /* light orange */\n",
    "font-weight: 600;\n",
    "}\n",
    "\n",
    ".rendered_html code {\n",
    "    background-color: #efefef; /* light gray */\n",
    "}\n",
    "\n",
    ".CodeMirror {\n",
    "color: #8c8c8c; /* dark gray */\n",
    "padding: 0.7em;\n",
    "}\n",
    "\n",
    "div.input_area {\n",
    "border: none;\n",
    "    background-color: %s; /* rgba(229, 143, 101, 0.1); light orange [exactly #E58F65] */\n",
    "    border-top: 2px solid %s; /* light orange */\n",
    "}\n",
    "\n",
    "div.input_prompt {\n",
    "color: %s; /* light blue */\n",
    "}\n",
    "\n",
    "div.output_prompt {\n",
    "color: %s; /* strong orange */\n",
    "}\n",
    "\n",
    "div.cell.selected:before, div.cell.selected.jupyter-soft-selected:before {\n",
    "background: %s; /* light orange */\n",
    "}\n",
    "\n",
    "div.cell.selected, div.cell.selected.jupyter-soft-selected {\n",
    "    border-color: %s; /* light orange */\n",
    "}\n",
    "\n",
    ".edit_mode div.cell.selected:before {\n",
    "background: %s; /* light orange */\n",
    "}\n",
    "\n",
    ".edit_mode div.cell.selected {\n",
    "border-color: %s; /* light orange */\n",
    "\n",
    "}\n",
    "'''\n",
    "def to_rgb(h): return tuple(int(h[i:i+2], 16) for i in (0, 2, 4))\n",
    "main_color_rgba = 'rgba(%s, %s, %s, 0.1)' % (to_rgb(main_color[1:])[0], to_rgb(main_color[1:])[1], to_rgb(main_color[1:])[2])\n",
    "open('notebook.css', 'w').write(css_file % (main_color, main_color, main_color_rgba, main_color,  prompt, strong_main_color, main_color, main_color, main_color, main_color))\n",
    "from IPython.core.display import display, HTML, Javascript\n",
    "def nb(): return HTML(\"<style>\" + open(\"notebook.css\", \"r\").read() + \"</style>\")\n",
    "nb()"
   ]
  },
  {
   "cell_type": "code",
   "execution_count": 3,
   "id": "f1146efe",
   "metadata": {
    "_cell_guid": "75d3e80e-0c31-48f5-88dd-5b6a3c79cf38",
    "_kg_hide-input": true,
    "_kg_hide-output": true,
    "_uuid": "968efaca-ede8-4817-b3aa-baedaba3205e",
    "execution": {
     "iopub.execute_input": "2021-12-04T14:59:51.965832Z",
     "iopub.status.busy": "2021-12-04T14:59:51.964876Z",
     "iopub.status.idle": "2021-12-04T14:59:51.971462Z",
     "shell.execute_reply": "2021-12-04T14:59:51.971987Z",
     "shell.execute_reply.started": "2021-11-24T08:50:03.600779Z"
    },
    "jupyter": {
     "outputs_hidden": false
    },
    "papermill": {
     "duration": 0.036522,
     "end_time": "2021-12-04T14:59:51.972170",
     "exception": false,
     "start_time": "2021-12-04T14:59:51.935648",
     "status": "completed"
    },
    "tags": []
   },
   "outputs": [
    {
     "data": {
      "text/html": [
       "<style>\n",
       "div #notebook {\n",
       "background-color: white;\n",
       "font-family: 'Open Sans', Helvetica, sans-serif;\n",
       "line-height: 20px;\n",
       "}\n",
       "\n",
       "#notebook-container {\n",
       "margin-top: 2em;\n",
       "padding-top: 2em;\n",
       "border-top: 4px solid #E58F65; /* light orange */\n",
       "-webkit-box-shadow: 0px 0px 8px 2px rgba(224, 212, 226, 0.5); /* pink */\n",
       "    box-shadow: 0px 0px 8px 2px rgba(224, 212, 226, 0.5); /* pink */\n",
       "}\n",
       "\n",
       "div .input {\n",
       "margin-bottom: 1em;\n",
       "}\n",
       "\n",
       ".rendered_html h1, .rendered_html h2, .rendered_html h3, .rendered_html h4, .rendered_html h5, .rendered_html h6 {\n",
       "color: #E58F65; /* light orange */\n",
       "font-weight: 600;\n",
       "}\n",
       "\n",
       ".rendered_html code {\n",
       "    background-color: #efefef; /* light gray */\n",
       "}\n",
       "\n",
       ".CodeMirror {\n",
       "color: #8c8c8c; /* dark gray */\n",
       "padding: 0.7em;\n",
       "}\n",
       "\n",
       "div.input_area {\n",
       "border: none;\n",
       "    background-color: rgba(229, 143, 101, 0.1); /* rgba(229, 143, 101, 0.1); light orange [exactly #E58F65] */\n",
       "    border-top: 2px solid #E58F65; /* light orange */\n",
       "}\n",
       "\n",
       "div.input_prompt {\n",
       "color: #1DBCCD; /* light blue */\n",
       "}\n",
       "\n",
       "div.output_prompt {\n",
       "color: #EB9514; /* strong orange */\n",
       "}\n",
       "\n",
       "div.cell.selected:before, div.cell.selected.jupyter-soft-selected:before {\n",
       "background: #E58F65; /* light orange */\n",
       "}\n",
       "\n",
       "div.cell.selected, div.cell.selected.jupyter-soft-selected {\n",
       "    border-color: #E58F65; /* light orange */\n",
       "}\n",
       "\n",
       ".edit_mode div.cell.selected:before {\n",
       "background: #E58F65; /* light orange */\n",
       "}\n",
       "\n",
       ".edit_mode div.cell.selected {\n",
       "border-color: #E58F65; /* light orange */\n",
       "\n",
       "}\n",
       "</style>"
      ],
      "text/plain": [
       "<IPython.core.display.HTML object>"
      ]
     },
     "execution_count": 3,
     "metadata": {},
     "output_type": "execute_result"
    }
   ],
   "source": [
    "from IPython.core.display import display, HTML, Javascript\n",
    "# def nb(): return HTML(\"<style>\" + open(\"../input/starter-utils/css_oranges.css\", \"r\").read() + \"</style>\")\n",
    "def nb(): return HTML(\"<style>\" + open(\"notebook.css\", \"r\").read() + \"</style>\")\n",
    "nb()"
   ]
  },
  {
   "cell_type": "markdown",
   "id": "27725504",
   "metadata": {
    "papermill": {
     "duration": 0.026667,
     "end_time": "2021-12-04T14:59:52.025326",
     "exception": false,
     "start_time": "2021-12-04T14:59:51.998659",
     "status": "completed"
    },
    "tags": []
   },
   "source": [
    "# <span class=\"title-section w3-xxlarge\" id=\"features\">Volatility Features</span>\n",
    "<hr>\n",
    "\n",
    "In this notebook I will intoduce six  methods for calculating volatility that can be used for feature engineering:\n",
    "\n",
    "| Volatility | Price Information |\n",
    "| ----------------------- | ---------------------- |\n",
    "| Realized | Close |\n",
    "| Parkinson | High, Low |\n",
    "| Garman-Klass | Open, High, Low, Close |\n",
    "| Roger-Satchell | Open, High, Low, Close |\n",
    "| Garman-Klass-Yang-Zhang | Open, High, Low, Close |\n",
    "| Yang-Zhang | Open, High, Low, Close |\n",
    "\n",
    "The last five methods all use a continuous rate of return, resulting in an underestimation of the real volatility.\n",
    "\n",
    "Realized, Garman-Klass-Yang-Zhang, and Yang-Zhang all use the price information of the previous day and the current day, which can be regarded as day-to-day volatility. \n",
    "\n",
    "## 1. Realized Volatility: Close-Close\n",
    "\n",
    "$$\\sigma_{realized} = \\sqrt{ \\frac{N}{n-2} \\sum\\limits_{i=1} ^{n-1} (r_t-\\bar r)^2 }$$\n",
    "\n",
    "$r_t =\\log\\frac{C_t}{C_{t-1}}$: rate of return\n",
    "\n",
    "$ \\bar r =\\frac{1}{n} \\sum\\limits_{n}^{t=1}r_t$: average rate of return\n",
    "\n",
    "## 2. Parkinson Volatility: High-Low Volatility\n",
    "\n",
    "$$\\sigma_{parkinson} = \\sqrt{ {\\frac{1}{4*\\ln{2}} * \\frac{252}{n} * \\sum\\limits_{t=1}^{n} { \\ln{(\\frac{H_t}{L_t})}}^2}}$$\n",
    "\n",
    "The general volatility only considers the closing price. Parkinson Volatility takes the highest price and the lowest price into consideration. \n",
    "\n",
    "## 3. Garman-Klass Volatility: OHLC volatility\n",
    "\n",
    "Assumes Brown motion with zero drift and no opening spike.\n",
    "\n",
    "$$\\sigma_{garman-klass} = \\sqrt{\\frac{N}{n} \\sum\\limits_{i=1}^{N} \\lbrack {\\frac{1}{2} * (\\log{ \\frac{H_i}{L_i}})^2 -(2*\\log2 -1) * (\\log\\frac{C_i}{O_i})^2\\rbrack}}$$\n",
    "\n",
    "Compared with Parkinson Volatility, it further considers the opening and closing prices, and incorporates more price information, \n",
    "\n",
    "## 4. Roger-Satchell Volatility: OHLC Volatility\n",
    "\n",
    "Assumes for non-zero drift, but assumed no opening spike.\n",
    "\n",
    "$$\\sigma_{roger-satchel} = \\sqrt{ \\frac{N}{n} \\sum\\limits_{i=1}^{n} \\lbrack \\log \\frac{H_i}{L_i} * \\log \\ frac{H_i}{O_i} + \\log \\frac{HL_i}{L_i} * \\log \\frac{L_i}{O_i} \\rbrack }$$\n",
    "\n",
    "## 5. Garman-Klass-Yang-Zhang Volatility: OHLC Volatility\n",
    "\n",
    "A modified version of Garman-Klass estimator that allows for opening spikes.\n",
    "\n",
    "$$\\sigma_{garkla-yangzh} = \\sqrt {\\frac{N}{n} \\sum\\limits_{i=1}^{n} \\lbrack (\\log \\frac{O_i}{C_{i-1 }})^2 + {\\frac{1}{2} * (\\log{\\frac{H_i}{L_i}})^2 -(2*\\log2 -1) * (\\log\\frac{C_i} {O_i})^2}\\rbrack }$$\n",
    "\n",
    "In the cases where the return on assets is not zero, the volatility will be overestimated.\n",
    "\n",
    "## 6. Yang-Zhang Volatility: OHLC Volatility\n",
    "\n",
    "$$\\sigma_{yang-zhang} = \\sqrt {\\sigma_o^2 + k * \\sigma_c^2 + (1-k) * \\sigma_{rs}^2}$$\n",
    "\n",
    "$\\mu_o = \\frac{1}{n} \\sum\\limits_{i=1}^{n} \\log \\frac {O_i}{C_{i-1}}$\n",
    "\n",
    "$\\sigma_o^2 = \\frac{N}{n-1} \\sum\\limits_{i=1}^{n} (\\log \\frac {O_i}{C_{i-1}}-\\mu_o)^ 2$, Open-Close Volatility or Overnight Volatility\n",
    "\n",
    "$\\mu_c = \\frac{1}{n} \\sum\\limits_{i=1}^{n} \\log \\frac {C_i}{O_i}$, Close-Open Volatility\n",
    "\n",
    "$\\sigma_c^2 = \\frac{N}{n-1} \\sum\\limits_{i=1}^{n} (\\log \\frac {C_i}{O_i}-\\mu_c)^2$\n",
    "\n",
    "$\\sigma_{rs}^2 = \\sigma_{roger-satchel}^2$\n",
    "\n",
    "$k^* = \\frac {\\alpha} {1+ \\alpha + \\frac{n+1}{n-1}}, \\alpha$ \n",
    "\n",
    "can also be interpreted as a weighted average of the Roger-Satchell estimator, the Close-Open Volatility and the Open-Close Volatility.\n",
    "\n",
    "## References\n",
    "\n",
    "1. [Volatility and its Measurements](https://www.eurexchange.com/blob/116048/47ca53f0178cec31caeecdf94cc18f6e/data/volatility_and_its_measurements.pdf.pdf)\n",
    "\n",
    "2. [Drift Independent Volatility Estimation Based on High, Low, Open and Close Price](http://citeseerx.ist.psu.edu/viewdoc/download?doi=10.1.1.628.4037&rep=rep1&type=pdf)\n",
    "\n",
    "3. [volatility function | R Documentation](https://www.rdocumentation.org/packages/TTR/versions/0.23-3/topics/volatility)\n",
    "\n",
    "4. [Parkinson volatility-Breaking Down Finance](http://breakingdownfinance.com/finance-topics/risk-management/parkinson-volatility/)\n",
    "\n",
    "5. [MEASURING HISTORICAL VOLATILITY](http://www.todaysgroep.nl/media/236846/measuring_historic_volatility.pdf)\n",
    "\n",
    "   "
   ]
  },
  {
   "cell_type": "markdown",
   "id": "1f481f60",
   "metadata": {
    "_cell_guid": "d849b62e-dcc7-4e5a-95c7-031dee523204",
    "_uuid": "359fc054-a69e-481b-938b-6fedc83ddc9b",
    "papermill": {
     "duration": 0.02668,
     "end_time": "2021-12-04T14:59:52.080126",
     "exception": false,
     "start_time": "2021-12-04T14:59:52.053446",
     "status": "completed"
    },
    "tags": []
   },
   "source": [
    "# <span class=\"title-section w3-xxlarge\" id=\"outline\">Libraries 📚</span>\n",
    "<hr>\n",
    "\n",
    "#### Code starts here ⬇"
   ]
  },
  {
   "cell_type": "code",
   "execution_count": 4,
   "id": "558b165a",
   "metadata": {
    "_cell_guid": "7b701afb-9ee3-4f9e-a219-3b6206a8283d",
    "_uuid": "35744779-02d1-445c-a8d4-dcbf1e1bdba2",
    "execution": {
     "iopub.execute_input": "2021-12-04T14:59:52.136302Z",
     "iopub.status.busy": "2021-12-04T14:59:52.135630Z",
     "iopub.status.idle": "2021-12-04T14:59:52.323762Z",
     "shell.execute_reply": "2021-12-04T14:59:52.322956Z",
     "shell.execute_reply.started": "2021-11-24T08:51:27.593199Z"
    },
    "jupyter": {
     "outputs_hidden": false
    },
    "papermill": {
     "duration": 0.217453,
     "end_time": "2021-12-04T14:59:52.323914",
     "exception": false,
     "start_time": "2021-12-04T14:59:52.106461",
     "status": "completed"
    },
    "tags": []
   },
   "outputs": [
    {
     "data": {
      "text/html": [
       "<style type='text/css'>\n",
       ".datatable table.frame { margin-bottom: 0; }\n",
       ".datatable table.frame thead { border-bottom: none; }\n",
       ".datatable table.frame tr.coltypes td {  color: #FFFFFF;  line-height: 6px;  padding: 0 0.5em;}\n",
       ".datatable .bool    { background: #DDDD99; }\n",
       ".datatable .object  { background: #565656; }\n",
       ".datatable .int     { background: #5D9E5D; }\n",
       ".datatable .float   { background: #4040CC; }\n",
       ".datatable .str     { background: #CC4040; }\n",
       ".datatable .time    { background: #40CC40; }\n",
       ".datatable .row_index {  background: var(--jp-border-color3);  border-right: 1px solid var(--jp-border-color0);  color: var(--jp-ui-font-color3);  font-size: 9px;}\n",
       ".datatable .frame tbody td { text-align: left; }\n",
       ".datatable .frame tr.coltypes .row_index {  background: var(--jp-border-color0);}\n",
       ".datatable th:nth-child(2) { padding-left: 12px; }\n",
       ".datatable .hellipsis {  color: var(--jp-cell-editor-border-color);}\n",
       ".datatable .vellipsis {  background: var(--jp-layout-color0);  color: var(--jp-cell-editor-border-color);}\n",
       ".datatable .na {  color: var(--jp-cell-editor-border-color);  font-size: 80%;}\n",
       ".datatable .sp {  opacity: 0.25;}\n",
       ".datatable .footer { font-size: 9px; }\n",
       ".datatable .frame_dimensions {  background: var(--jp-border-color3);  border-top: 1px solid var(--jp-border-color0);  color: var(--jp-ui-font-color3);  display: inline-block;  opacity: 0.6;  padding: 1px 10px 1px 5px;}\n",
       ".datatable .frame thead tr.colnames {  background-image: url('data:image/png;base64,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');  background-repeat: repeat-x;  background-size: 14px;  height: 28px;}\n",
       "</style>\n"
      ],
      "text/plain": [
       "<IPython.core.display.HTML object>"
      ]
     },
     "metadata": {},
     "output_type": "display_data"
    }
   ],
   "source": [
    "import os\n",
    "import gc\n",
    "import traceback\n",
    "import numpy as np\n",
    "import pandas as pd\n",
    "import datatable as dt\n",
    "import gresearch_crypto\n",
    "from tqdm.notebook import tqdm\n",
    "import matplotlib.pyplot as plt\n",
    "data_path = '../input/g-research-crypto-forecasting/'\n",
    "\n",
    "import warnings\n",
    "warnings.simplefilter(action='ignore', category=FutureWarning)\n",
    "warnings.simplefilter(action='ignore', category=pd.core.common.SettingWithCopyWarning)\n",
    "    \n",
    "plt.style.use('bmh')\n",
    "plt.rcParams['figure.figsize'] = [14, 8]  # width, height"
   ]
  },
  {
   "cell_type": "code",
   "execution_count": 5,
   "id": "9417142c",
   "metadata": {
    "_cell_guid": "b56ab916-dae6-4ff7-bb2d-52398dd52e1c",
    "_kg_hide-input": true,
    "_uuid": "1146dd4e-6f2e-45c4-a2fd-7fee6e751e98",
    "execution": {
     "iopub.execute_input": "2021-12-04T14:59:52.382248Z",
     "iopub.status.busy": "2021-12-04T14:59:52.381195Z",
     "iopub.status.idle": "2021-12-04T14:59:52.396769Z",
     "shell.execute_reply": "2021-12-04T14:59:52.396042Z",
     "shell.execute_reply.started": "2021-11-24T08:51:27.630147Z"
    },
    "papermill": {
     "duration": 0.045768,
     "end_time": "2021-12-04T14:59:52.396920",
     "exception": false,
     "start_time": "2021-12-04T14:59:52.351152",
     "status": "completed"
    },
    "tags": []
   },
   "outputs": [],
   "source": [
    "# Memory saving function credit to https://www.kaggle.com/gemartin/load-data-reduce-memory-usage\n",
    "def reduce_mem_usage(df):\n",
    "    \"\"\" iterate through all the columns of a dataframe and modify the data type\n",
    "        to reduce memory usage.\n",
    "    \"\"\"\n",
    "    start_mem = df.memory_usage().sum() / 1024**2\n",
    "    print('Memory usage of dataframe is {:.2f} MB'.format(start_mem))\n",
    "\n",
    "    for col in df.columns:\n",
    "        col_type = df[col].dtype.name\n",
    "\n",
    "        if col_type not in ['object', 'category', 'datetime64[ns, UTC]']:\n",
    "            c_min = df[col].min()\n",
    "            c_max = df[col].max()\n",
    "            if str(col_type)[:3] == 'int':\n",
    "                if c_min > np.iinfo(np.int8).min and c_max < np.iinfo(np.int8).max:\n",
    "                    df[col] = df[col].astype(np.int16)\n",
    "                elif c_min > np.iinfo(np.int16).min and c_max < np.iinfo(np.int16).max:\n",
    "                    df[col] = df[col].astype(np.int16)\n",
    "                elif c_min > np.iinfo(np.int32).min and c_max < np.iinfo(np.int32).max:\n",
    "                    df[col] = df[col].astype(np.int32)\n",
    "                elif c_min > np.iinfo(np.int64).min and c_max < np.iinfo(np.int64).max:\n",
    "                    df[col] = df[col].astype(np.int64)  \n",
    "            else:\n",
    "                if c_min > np.finfo(np.float16).min and c_max < np.finfo(np.float16).max:\n",
    "                    df[col] = df[col].astype(np.float16)\n",
    "                elif c_min > np.finfo(np.float32).min and c_max < np.finfo(np.float32).max:\n",
    "                    df[col] = df[col].astype(np.float32)\n",
    "                else:\n",
    "                    df[col] = df[col].astype(np.float64)\n",
    "\n",
    "    end_mem = df.memory_usage().sum() / 1024**2\n",
    "    print('Memory usage after optimization is: {:.2f} MB'.format(end_mem))\n",
    "    print('Decreased by {:.1f}%'.format(100 * (start_mem - end_mem) / start_mem))\n",
    "\n",
    "    return df"
   ]
  },
  {
   "cell_type": "markdown",
   "id": "257a25ee",
   "metadata": {
    "papermill": {
     "duration": 0.026863,
     "end_time": "2021-12-04T14:59:52.452708",
     "exception": false,
     "start_time": "2021-12-04T14:59:52.425845",
     "status": "completed"
    },
    "tags": []
   },
   "source": [
    "# <span class=\"title-section w3-xxlarge\" id=\"loading\">Data Loading 🗃️</span>\n",
    "<hr>\n",
    "\n",
    "The data organisation has already been done and saved to Kaggle datasets. Here we choose which years to load. We can use either 2017, 2018, 2019, 2020, 2021, Original, Supplement by changing the `INC2021`, `INC2020`, `INC2019`, `INC2018`, `INC2017`, `INCCOMP`, `INCSUPP` variables in the preceeding code section. These datasets are discussed [here][1].\n",
    "\n",
    "[1]: https://www.kaggle.com/c/g-research-crypto-forecasting/discussion/285726\n"
   ]
  },
  {
   "cell_type": "code",
   "execution_count": 6,
   "id": "4ae3b08a",
   "metadata": {
    "_cell_guid": "8da68356-63f7-49c7-aca2-b61019c278b6",
    "_kg_hide-input": true,
    "_uuid": "aafb204a-c174-4898-af33-eede907e879b",
    "execution": {
     "iopub.execute_input": "2021-12-04T14:59:52.516830Z",
     "iopub.status.busy": "2021-12-04T14:59:52.515773Z",
     "iopub.status.idle": "2021-12-04T15:00:17.442616Z",
     "shell.execute_reply": "2021-12-04T15:00:17.441948Z",
     "shell.execute_reply.started": "2021-11-24T08:51:27.646647Z"
    },
    "jupyter": {
     "outputs_hidden": false
    },
    "papermill": {
     "duration": 24.962755,
     "end_time": "2021-12-04T15:00:17.442776",
     "exception": false,
     "start_time": "2021-12-04T14:59:52.480021",
     "status": "completed"
    },
    "tags": []
   },
   "outputs": [],
   "source": [
    "import datatable as dt\n",
    "extra_data_files = {0: '../input/cryptocurrency-extra-data-binance-coin', 2: '../input/cryptocurrency-extra-data-bitcoin-cash', 1: '../input/cryptocurrency-extra-data-bitcoin', 3: '../input/cryptocurrency-extra-data-cardano', 4: '../input/cryptocurrency-extra-data-dogecoin', 5: '../input/cryptocurrency-extra-data-eos-io', 6: '../input/cryptocurrency-extra-data-ethereum', 7: '../input/cryptocurrency-extra-data-ethereum-classic', 8: '../input/cryptocurrency-extra-data-iota', 9: '../input/cryptocurrency-extra-data-litecoin', 11: '../input/cryptocurrency-extra-data-monero', 10: '../input/cryptocurrency-extra-data-maker', 12: '../input/cryptocurrency-extra-data-stellar', 13: '../input/cryptocurrency-extra-data-tron'}\n",
    "\n",
    "# Uncomment to load the original csv [slower]\n",
    "# orig_df_train = pd.read_csv(data_path + 'train.csv') \n",
    "# supp_df_train = pd.read_csv(data_path + 'supplemental_train.csv')\n",
    "# df_asset_details = pd.read_csv(data_path  + 'asset_details.csv').sort_values(\"Asset_ID\")\n",
    "\n",
    "orig_df_train = dt.fread('../input/cryptocurrency-extra-data-binance-coin/orig_train.jay').to_pandas()\n",
    "df_asset_details = dt.fread('../input/cryptocurrency-extra-data-binance-coin/orig_asset_details.jay').to_pandas()\n",
    "supp_df_train = dt.fread('../input/cryptocurrency-extra-data-binance-coin/orig_supplemental_train.jay').to_pandas()\n",
    "assets_details = dt.fread('../input/cryptocurrency-extra-data-binance-coin/orig_asset_details.jay').to_pandas()\n",
    "asset_weight_dict = {assets_details['Asset_ID'].tolist()[idx]: assets_details['Weight'].tolist()[idx] for idx in range(len(assets_details))}\n",
    "asset_name_dict = {assets_details['Asset_ID'].tolist()[idx]: assets_details['Asset_Name'].tolist()[idx] for idx in range(len(assets_details))}\n",
    "\n",
    "def load_training_data_for_asset(asset_id, load_jay = True):\n",
    "    dfs = []\n",
    "    if INCCOMP: dfs.append(orig_df_train[orig_df_train[\"Asset_ID\"] == asset_id].copy())\n",
    "    if INCSUPP: dfs.append(supp_df_train[supp_df_train[\"Asset_ID\"] == asset_id].copy())\n",
    "    \n",
    "    if load_jay:\n",
    "        if INC2017 and os.path.exists(extra_data_files[asset_id] + '/full_data__' + str(asset_id) + '__' + str(2017) + '.csv'): dfs.append(dt.fread(extra_data_files[asset_id] + '/full_data__' + str(asset_id) + '__' + str(2017) + '.jay').to_pandas())\n",
    "        if INC2018 and os.path.exists(extra_data_files[asset_id] + '/full_data__' + str(asset_id) + '__' + str(2018) + '.csv'): dfs.append(dt.fread(extra_data_files[asset_id] + '/full_data__' + str(asset_id) + '__' + str(2018) + '.jay').to_pandas())\n",
    "        if INC2019 and os.path.exists(extra_data_files[asset_id] + '/full_data__' + str(asset_id) + '__' + str(2019) + '.csv'): dfs.append(dt.fread(extra_data_files[asset_id] + '/full_data__' + str(asset_id) + '__' + str(2019) + '.jay').to_pandas())\n",
    "        if INC2020 and os.path.exists(extra_data_files[asset_id] + '/full_data__' + str(asset_id) + '__' + str(2020) + '.csv'): dfs.append(dt.fread(extra_data_files[asset_id] + '/full_data__' + str(asset_id) + '__' + str(2020) + '.jay').to_pandas())\n",
    "        if INC2021 and os.path.exists(extra_data_files[asset_id] + '/full_data__' + str(asset_id) + '__' + str(2021) + '.csv'): dfs.append(dt.fread(extra_data_files[asset_id] + '/full_data__' + str(asset_id) + '__' + str(2021) + '.jay').to_pandas())\n",
    "    else: \n",
    "        if INC2017 and os.path.exists(extra_data_files[asset_id] + '/full_data__' + str(asset_id) + '__' + str(2017) + '.csv'): dfs.append(pd.read_csv(extra_data_files[asset_id] + '/full_data__' + str(asset_id) + '__' + str(2017) + '.csv'))\n",
    "        if INC2018 and os.path.exists(extra_data_files[asset_id] + '/full_data__' + str(asset_id) + '__' + str(2018) + '.csv'): dfs.append(pd.read_csv(extra_data_files[asset_id] + '/full_data__' + str(asset_id) + '__' + str(2018) + '.csv'))\n",
    "        if INC2019 and os.path.exists(extra_data_files[asset_id] + '/full_data__' + str(asset_id) + '__' + str(2019) + '.csv'): dfs.append(pd.read_csv(extra_data_files[asset_id] + '/full_data__' + str(asset_id) + '__' + str(2019) + '.csv'))\n",
    "        if INC2020 and os.path.exists(extra_data_files[asset_id] + '/full_data__' + str(asset_id) + '__' + str(2020) + '.csv'): dfs.append(pd.read_csv(extra_data_files[asset_id] + '/full_data__' + str(asset_id) + '__' + str(2020) + '.csv'))\n",
    "        if INC2021 and os.path.exists(extra_data_files[asset_id] + '/full_data__' + str(asset_id) + '__' + str(2021) + '.csv'): dfs.append(pd.read_csv(extra_data_files[asset_id] + '/full_data__' + str(asset_id) + '__' + str(2021) + '.csv'))\n",
    "    df = pd.concat(dfs, axis = 0) if len(dfs) > 1 else dfs[0]\n",
    "    df['date'] = pd.to_datetime(df['timestamp'], unit = 's')\n",
    "    if LOAD_STRICT: df = df.loc[df['date'] < \"2021-06-13 00:00:00\"]    \n",
    "    df = df.sort_values('date')\n",
    "    return df\n",
    "\n",
    "def load_data_for_all_assets():\n",
    "    dfs = []\n",
    "    for asset_id in list(extra_data_files.keys()): dfs.append(load_training_data_for_asset(asset_id))\n",
    "    return pd.concat(dfs)"
   ]
  },
  {
   "cell_type": "code",
   "execution_count": 7,
   "id": "6b5bff89",
   "metadata": {
    "execution": {
     "iopub.execute_input": "2021-12-04T15:00:17.516568Z",
     "iopub.status.busy": "2021-12-04T15:00:17.515776Z",
     "iopub.status.idle": "2021-12-04T15:00:33.949592Z",
     "shell.execute_reply": "2021-12-04T15:00:33.948982Z",
     "shell.execute_reply.started": "2021-11-24T08:51:28.768643Z"
    },
    "papermill": {
     "duration": 16.47854,
     "end_time": "2021-12-04T15:00:33.949743",
     "exception": false,
     "start_time": "2021-12-04T15:00:17.471203",
     "status": "completed"
    },
    "tags": []
   },
   "outputs": [
    {
     "name": "stdout",
     "output_type": "stream",
     "text": [
      "Loaded all data!\n"
     ]
    }
   ],
   "source": [
    "# LOAD STRICT? YES=1 NO=0 | see: https://www.kaggle.com/julian3833/proposal-for-a-meaningful-lb-strict-lgbm\n",
    "LOAD_STRICT = True\n",
    "\n",
    "# WHICH YEARS TO INCLUDE? YES=1 NO=0\n",
    "INC2021 = 0\n",
    "INC2020 = 0\n",
    "INC2019 = 0\n",
    "INC2018 = 0\n",
    "INC2017 = 0\n",
    "INCCOMP = 1\n",
    "INCSUPP = 0\n",
    "\n",
    "train = load_data_for_all_assets().sort_values('timestamp').set_index(\"timestamp\")\n",
    "print(\"Loaded all data!\")\n",
    "\n",
    "train_data = train.copy()\n",
    "train_data['date'] = pd.to_datetime(train_data['date'])\n",
    "df = train_data.loc[train_data['Asset_ID'] == 1]"
   ]
  },
  {
   "cell_type": "markdown",
   "id": "e535b3d4",
   "metadata": {
    "_cell_guid": "22bb5d25-9c27-4be9-b9ac-0701b71058a5",
    "_uuid": "137210f4-aa91-4525-9f53-5e91f4bf9ced",
    "papermill": {
     "duration": 0.027292,
     "end_time": "2021-12-04T15:00:34.006027",
     "exception": false,
     "start_time": "2021-12-04T15:00:33.978735",
     "status": "completed"
    },
    "tags": []
   },
   "source": [
    "# <span class=\"title-section w3-xxlarge\" id=\"features\">Feature Engineering 🔬</span>\n",
    "<hr>"
   ]
  },
  {
   "cell_type": "code",
   "execution_count": 8,
   "id": "6b65878a",
   "metadata": {
    "execution": {
     "iopub.execute_input": "2021-12-04T15:00:34.067754Z",
     "iopub.status.busy": "2021-12-04T15:00:34.066812Z",
     "iopub.status.idle": "2021-12-04T15:00:34.069270Z",
     "shell.execute_reply": "2021-12-04T15:00:34.069822Z",
     "shell.execute_reply.started": "2021-11-24T08:51:41.714007Z"
    },
    "papermill": {
     "duration": 0.035463,
     "end_time": "2021-12-04T15:00:34.069998",
     "exception": false,
     "start_time": "2021-12-04T15:00:34.034535",
     "status": "completed"
    },
    "tags": []
   },
   "outputs": [],
   "source": [
    "import numpy\n",
    "import pandas as pd\n",
    "from math import sqrt, log"
   ]
  },
  {
   "cell_type": "markdown",
   "id": "685a7741",
   "metadata": {
    "papermill": {
     "duration": 0.027057,
     "end_time": "2021-12-04T15:00:34.126027",
     "exception": false,
     "start_time": "2021-12-04T15:00:34.098970",
     "status": "completed"
    },
    "tags": []
   },
   "source": [
    "# <span class=\"title-section w3-xxlarge\" id=\"features\">Realized Volatility: Close-Close</span>\n",
    "<hr>\n",
    "\n",
    "$$\\sigma_{realized} = \\sqrt{ \\frac{N}{n-2} \\sum\\limits_{i=1} ^{n-1} (r_t-\\bar r)^2 }$$\n",
    "\n",
    "$r_t =\\log\\frac{C_t}{C_{t-1}}$: rate of return\n",
    "\n",
    "$ \\bar r =\\frac{1}{n} \\sum\\limits_{n}^{t=1}r_t$: average rate of return"
   ]
  },
  {
   "cell_type": "code",
   "execution_count": 9,
   "id": "808ce830",
   "metadata": {
    "execution": {
     "iopub.execute_input": "2021-12-04T15:00:34.280930Z",
     "iopub.status.busy": "2021-12-04T15:00:34.279387Z",
     "iopub.status.idle": "2021-12-04T15:00:35.298228Z",
     "shell.execute_reply": "2021-12-04T15:00:35.298781Z",
     "shell.execute_reply.started": "2021-11-24T08:51:41.714007Z"
    },
    "papermill": {
     "duration": 1.145093,
     "end_time": "2021-12-04T15:00:35.298974",
     "exception": false,
     "start_time": "2021-12-04T15:00:34.153881",
     "status": "completed"
    },
    "tags": []
   },
   "outputs": [],
   "source": [
    "def realized(close, N=240):\n",
    "    rt = list(log(C_t / C_t_1) for C_t, C_t_1 in zip(close[1:], close[:-1]))\n",
    "    rt_mean = sum(rt) / len(rt)\n",
    "    return sqrt(sum((r_i - rt_mean) ** 2 for r_i in rt) * N / (len(rt) - 1))\n",
    "\n",
    "feat = realized(df['Close'].tolist(), N=240)"
   ]
  },
  {
   "cell_type": "markdown",
   "id": "52c238e3",
   "metadata": {
    "papermill": {
     "duration": 0.027641,
     "end_time": "2021-12-04T15:00:35.354265",
     "exception": false,
     "start_time": "2021-12-04T15:00:35.326624",
     "status": "completed"
    },
    "tags": []
   },
   "source": [
    "# <span class=\"title-section w3-xxlarge\" id=\"features\">Parkinson Volatility: High-Low Volatility</span>\n",
    "<hr>\n",
    "\n",
    "$$\\sigma_{parkinson} = \\sqrt{ {\\frac{1}{4*\\ln{2}} * \\frac{252}{n} * \\sum\\limits_{t=1}^{n} { \\ln{(\\frac{H_t}{L_t})}}^2}}$$\n",
    "\n",
    "The general volatility only considers the closing price. Parkinson Volatility takes the highest price and the lowest price into consideration. "
   ]
  },
  {
   "cell_type": "code",
   "execution_count": 10,
   "id": "9f55fbf0",
   "metadata": {
    "execution": {
     "iopub.execute_input": "2021-12-04T15:00:35.414155Z",
     "iopub.status.busy": "2021-12-04T15:00:35.413086Z",
     "iopub.status.idle": "2021-12-04T15:00:36.370625Z",
     "shell.execute_reply": "2021-12-04T15:00:36.369875Z",
     "shell.execute_reply.started": "2021-11-24T08:51:41.714007Z"
    },
    "papermill": {
     "duration": 0.988682,
     "end_time": "2021-12-04T15:00:36.370773",
     "exception": false,
     "start_time": "2021-12-04T15:00:35.382091",
     "status": "completed"
    },
    "tags": []
   },
   "outputs": [],
   "source": [
    "def parkinson(high, low, N=240):\n",
    "    sum_hl = sum(log(H_t / L_t) ** 2 for H_t, L_t in zip(high, low))\n",
    "    return sqrt(sum_hl * N / (4 * len(high) *log(2)))\n",
    "\n",
    "feat = parkinson(df['High'].tolist(), df['Low'].tolist(), N=240)"
   ]
  },
  {
   "cell_type": "markdown",
   "id": "b795e5aa",
   "metadata": {
    "papermill": {
     "duration": 0.029286,
     "end_time": "2021-12-04T15:00:36.428381",
     "exception": false,
     "start_time": "2021-12-04T15:00:36.399095",
     "status": "completed"
    },
    "tags": []
   },
   "source": [
    "# <span class=\"title-section w3-xxlarge\" id=\"features\">Garman-Klass Volatility: OHLC volatility</span>\n",
    "<hr>\n",
    "\n",
    "Assumes Brown motion with zero drift and no opening spike.\n",
    "\n",
    "$$\\sigma_{garman-klass} = \\sqrt{\\frac{N}{n} \\sum\\limits_{i=1}^{N} \\lbrack {\\frac{1}{2} * (\\log{ \\frac{H_i}{L_i}})^2 -(2*\\log2 -1) * (\\log\\frac{C_i}{O_i})^2\\rbrack}}$$\n",
    "\n",
    "Compared with Parkinson Volatility, it further considers the opening and closing prices, and incorporates more price information"
   ]
  },
  {
   "cell_type": "code",
   "execution_count": 11,
   "id": "c4dd8d61",
   "metadata": {
    "execution": {
     "iopub.execute_input": "2021-12-04T15:00:36.681905Z",
     "iopub.status.busy": "2021-12-04T15:00:36.587508Z",
     "iopub.status.idle": "2021-12-04T15:00:38.445229Z",
     "shell.execute_reply": "2021-12-04T15:00:38.446047Z",
     "shell.execute_reply.started": "2021-11-24T08:51:41.714007Z"
    },
    "papermill": {
     "duration": 1.988766,
     "end_time": "2021-12-04T15:00:38.446386",
     "exception": false,
     "start_time": "2021-12-04T15:00:36.457620",
     "status": "completed"
    },
    "tags": []
   },
   "outputs": [],
   "source": [
    "def garman_klass(open, high, low, close, N=240):\n",
    "    sum_hl = sum(log(H_t / L_t) ** 2 for H_t, L_t in zip(high, low)) / 2\n",
    "    sum_co = sum(log(C_t / O_t) ** 2 for C_t, O_t in zip(close, open)) * (2 * log(2) - 1)\n",
    "    return sqrt((sum_hl - sum_co) * N / len(close))\n",
    "\n",
    "feat = garman_klass(df['Open'].tolist(), df['High'].tolist(), df['Low'].tolist(), df['Close'].tolist(), N = 240)"
   ]
  },
  {
   "cell_type": "markdown",
   "id": "461e0683",
   "metadata": {
    "papermill": {
     "duration": 0.030303,
     "end_time": "2021-12-04T15:00:38.508916",
     "exception": false,
     "start_time": "2021-12-04T15:00:38.478613",
     "status": "completed"
    },
    "tags": []
   },
   "source": [
    "# <span class=\"title-section w3-xxlarge\" id=\"features\">Roger-Satchell Volatility: OHLC Volatility</span>\n",
    "<hr>\n",
    "\n",
    "Assumes for non-zero drift, but assumed no opening spike.\n",
    "\n",
    "$$\\sigma_{roger-satchel} = \\sqrt{ \\frac{N}{n} \\sum\\limits_{i=1}^{n} \\lbrack \\log \\frac{H_i}{L_i} * \\log \\ frac{H_i}{O_i} + \\log \\frac{HL_i}{L_i} * \\log \\frac{L_i}{O_i} \\rbrack }$$"
   ]
  },
  {
   "cell_type": "code",
   "execution_count": 12,
   "id": "f1ce86fd",
   "metadata": {
    "execution": {
     "iopub.execute_input": "2021-12-04T15:00:38.950977Z",
     "iopub.status.busy": "2021-12-04T15:00:38.570624Z",
     "iopub.status.idle": "2021-12-04T15:00:40.874848Z",
     "shell.execute_reply": "2021-12-04T15:00:40.874259Z",
     "shell.execute_reply.started": "2021-11-24T08:51:41.714007Z"
    },
    "papermill": {
     "duration": 2.335131,
     "end_time": "2021-12-04T15:00:40.875026",
     "exception": false,
     "start_time": "2021-12-04T15:00:38.539895",
     "status": "completed"
    },
    "tags": []
   },
   "outputs": [],
   "source": [
    "def roger_satchell(open, high, low, close, N=240):\n",
    "    sum_ohlc = sum(log(H_t / C_t) * log(H_t / O_t) + log(L_t / C_t) * log(L_t / O_t) for O_t, H_t, L_t, C_t in zip(open, high, low, close))\n",
    "    return sqrt(sum_ohlc * N / len(close))\n",
    "\n",
    "feat = roger_satchell(df['Open'].tolist(), df['High'].tolist(), df['Low'].tolist(), df['Close'].tolist(), N = 240)"
   ]
  },
  {
   "cell_type": "markdown",
   "id": "51b7a163",
   "metadata": {
    "papermill": {
     "duration": 0.02907,
     "end_time": "2021-12-04T15:00:40.932820",
     "exception": false,
     "start_time": "2021-12-04T15:00:40.903750",
     "status": "completed"
    },
    "tags": []
   },
   "source": [
    "# <span class=\"title-section w3-xxlarge\" id=\"features\">Garman-Klass-Yang-Zhang Volatility: OHLC Volatility</span>\n",
    "<hr>\n",
    "\n",
    "A modified version of Garman-Klass estimator that allows for opening spikes.\n",
    "\n",
    "$$\\sigma_{garkla-yangzh} = \\sqrt {\\frac{N}{n} \\sum\\limits_{i=1}^{n} \\lbrack (\\log \\frac{O_i}{C_{i-1 }})^2 + {\\frac{1}{2} * (\\log{\\frac{H_i}{L_i}})^2 -(2*\\log2 -1) * (\\log\\frac{C_i} {O_i})^2}\\rbrack }$$\n",
    "\n",
    "In the cases where the return on assets is not zero, the volatility will be overestimated."
   ]
  },
  {
   "cell_type": "code",
   "execution_count": 13,
   "id": "dd37d192",
   "metadata": {
    "execution": {
     "iopub.execute_input": "2021-12-04T15:00:41.393227Z",
     "iopub.status.busy": "2021-12-04T15:00:40.994245Z",
     "iopub.status.idle": "2021-12-04T15:00:43.699125Z",
     "shell.execute_reply": "2021-12-04T15:00:43.698428Z",
     "shell.execute_reply.started": "2021-11-24T08:51:41.714007Z"
    },
    "papermill": {
     "duration": 2.738697,
     "end_time": "2021-12-04T15:00:43.699268",
     "exception": false,
     "start_time": "2021-12-04T15:00:40.960571",
     "status": "completed"
    },
    "tags": []
   },
   "outputs": [],
   "source": [
    "def garkla_yangzh(open, high, low, close, N=240):\n",
    "    sum_oc_1 = sum(log(O_t / C_t_1) ** 2 for O_t, C_t_1 in zip(open[1:], close[:-1]))\n",
    "    sum_hl = sum(log(H_t / L_t) ** 2 for H_t, L_t in zip(high[1:], low[1:])) / 2\n",
    "    sum_co = sum(log(C_t / O_t) ** 2 for C_t, O_t in zip(close[1:], open[1:])) * (2 * log(2) - 1)\n",
    "    return sqrt((sum_oc_1 + sum_hl - sum_co) * N / (len(close) - 1))\n",
    "\n",
    "feat = garkla_yangzh(df['Open'].tolist(), df['High'].tolist(), df['Low'].tolist(), df['Close'].tolist(), N = 240)"
   ]
  },
  {
   "cell_type": "markdown",
   "id": "ea35c6e7",
   "metadata": {
    "papermill": {
     "duration": 0.027171,
     "end_time": "2021-12-04T15:00:43.755506",
     "exception": false,
     "start_time": "2021-12-04T15:00:43.728335",
     "status": "completed"
    },
    "tags": []
   },
   "source": [
    "# <span class=\"title-section w3-xxlarge\" id=\"features\">Yang-Zhang Volatility: OHLC Volatility</span>\n",
    "<hr>\n",
    "\n",
    "$$\\sigma_{yang-zhang} = \\sqrt {\\sigma_o^2 + k * \\sigma_c^2 + (1-k) * \\sigma_{rs}^2}$$\n",
    "\n",
    "$\\mu_o = \\frac{1}{n} \\sum\\limits_{i=1}^{n} \\log \\frac {O_i}{C_{i-1}}$\n",
    "\n",
    "$\\sigma_o^2 = \\frac{N}{n-1} \\sum\\limits_{i=1}^{n} (\\log \\frac {O_i}{C_{i-1}}-\\mu_o)^ 2$, Open-Close Volatility or Overnight Volatility\n",
    "\n",
    "$\\mu_c = \\frac{1}{n} \\sum\\limits_{i=1}^{n} \\log \\frac {C_i}{O_i}$, Close-Open Volatility\n",
    "\n",
    "$\\sigma_c^2 = \\frac{N}{n-1} \\sum\\limits_{i=1}^{n} (\\log \\frac {C_i}{O_i}-\\mu_c)^2$\n",
    "\n",
    "$\\sigma_{rs}^2 = \\sigma_{roger-satchel}^2$\n",
    "\n",
    "$k^* = \\frac {\\alpha} {1+ \\alpha + \\frac{n+1}{n-1}}, \\alpha$ \n",
    "\n",
    "can also be interpreted as a weighted average of the Roger-Satchell estimator, the Close-Open Volatility and the Open-Close Volatility."
   ]
  },
  {
   "cell_type": "code",
   "execution_count": 14,
   "id": "3440025f",
   "metadata": {
    "execution": {
     "iopub.execute_input": "2021-12-04T15:00:43.815178Z",
     "iopub.status.busy": "2021-12-04T15:00:43.814452Z",
     "iopub.status.idle": "2021-12-04T15:00:48.068563Z",
     "shell.execute_reply": "2021-12-04T15:00:48.069273Z",
     "shell.execute_reply.started": "2021-11-24T08:51:41.714007Z"
    },
    "papermill": {
     "duration": 4.286438,
     "end_time": "2021-12-04T15:00:48.069484",
     "exception": false,
     "start_time": "2021-12-04T15:00:43.783046",
     "status": "completed"
    },
    "tags": []
   },
   "outputs": [],
   "source": [
    "def yang_zhang(open, high, low, close, N=240):\n",
    "    oc = list(log(O_t / C_t_1) for O_t, C_t_1 in zip(open[1:], close[:-1]))\n",
    "    n = len(oc)\n",
    "    oc_mean = sum(oc) / n\n",
    "    oc_var = sum((oc_i - oc_mean) ** 2 for oc_i in oc) * N / (n - 1)   \n",
    "    co = list(log(C_t / O_t) for O_t, C_t in zip(open[1:], close[1:]))\n",
    "    co_mean = sum(co) / n\n",
    "    co_var = sum((co_i - co_mean) ** 2 for co_i in co) * N / (n - 1)    \n",
    "    rs_var = (roger_satchell(open[1:], high[1:], low[1:], close[1:])) ** 2    \n",
    "    k = 0.34 / (1.34 + (n +1) / (n - 1))    \n",
    "    return sqrt(oc_var + k * co_var + (1-k) * rs_var)\n",
    "\n",
    "feat = yang_zhang(df['Open'].tolist(), df['High'].tolist(), df['Low'].tolist(), df['Close'].tolist(), N = 240)"
   ]
  },
  {
   "cell_type": "markdown",
   "id": "70502963",
   "metadata": {
    "papermill": {
     "duration": 0.027663,
     "end_time": "2021-12-04T15:00:48.124767",
     "exception": false,
     "start_time": "2021-12-04T15:00:48.097104",
     "status": "completed"
    },
    "tags": []
   },
   "source": [
    "# More to come.."
   ]
  },
  {
   "cell_type": "markdown",
   "id": "f557b437",
   "metadata": {
    "papermill": {
     "duration": 0.027943,
     "end_time": "2021-12-04T15:00:48.180748",
     "exception": false,
     "start_time": "2021-12-04T15:00:48.152805",
     "status": "completed"
    },
    "tags": []
   },
   "source": [
    "# <span class=\"title-section w3-xxlarge\">References</span>\n",
    "\n",
    "<span id=\"f1\">1.</span> [Initial baseline notebook](https://www.kaggle.com/julian3833)<br>\n",
    "<span id=\"f2\">2.</span> [Competition tutorial](https://www.kaggle.com/cstein06/tutorial-to-the-g-research-crypto-competition)<br>\n",
    "<span id=\"f3\">3.</span> [Competition Overview](https://www.kaggle.com/c/g-research-crypto-forecasting/overview)</span><br>\n",
    "<span id=\"f4\">4.</span> [My Initial Ideas for this competition](https://www.kaggle.com/c/g-research-crypto-forecasting/discussion/284903)</span><br>\n",
    "<span id=\"f5\">5.</span> [My post notebook about cross validation](https://www.kaggle.com/yamqwe/let-s-talk-validation-grouptimeseriessplit)</span><br>\n",
    "<span id=\"f5\">6.</span> [Chris original notebook from SIIM ISIC](https://www.kaggle.com/cdeotte/triple-stratified-kfold-with-tfrecords)</span><br>\n",
    "\n",
    "<span class=\"title-section w3-large w3-tag\">WORK IN PROGRESS! 🚧</span>"
   ]
  },
  {
   "cell_type": "markdown",
   "id": "86a44c44",
   "metadata": {
    "papermill": {
     "duration": 0.027328,
     "end_time": "2021-12-04T15:00:48.235657",
     "exception": false,
     "start_time": "2021-12-04T15:00:48.208329",
     "status": "completed"
    },
    "tags": []
   },
   "source": [
    "<hr>\n",
    "<center><img src=\"https://i.ibb.co/2M2MsgH/upvote7.png\" height=400 width=400></center>"
   ]
  }
 ],
 "metadata": {
  "kernelspec": {
   "display_name": "Python 3",
   "language": "python",
   "name": "python3"
  },
  "language_info": {
   "codemirror_mode": {
    "name": "ipython",
    "version": 3
   },
   "file_extension": ".py",
   "mimetype": "text/x-python",
   "name": "python",
   "nbconvert_exporter": "python",
   "pygments_lexer": "ipython3",
   "version": "3.7.10"
  },
  "papermill": {
   "default_parameters": {},
   "duration": 67.981823,
   "end_time": "2021-12-04T15:00:48.978799",
   "environment_variables": {},
   "exception": null,
   "input_path": "__notebook__.ipynb",
   "output_path": "__notebook__.ipynb",
   "parameters": {},
   "start_time": "2021-12-04T14:59:40.996976",
   "version": "2.3.3"
  }
 },
 "nbformat": 4,
 "nbformat_minor": 5
}
